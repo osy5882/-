{
  "nbformat": 4,
  "nbformat_minor": 0,
  "metadata": {
    "colab": {
      "name": "[2021-1][산업정보화] 9. 동적 프로그래밍.ipynb",
      "provenance": []
    },
    "kernelspec": {
      "name": "python3",
      "display_name": "Python 3"
    }
  },
  "cells": [
    {
      "cell_type": "markdown",
      "metadata": {
        "id": "0p34RTnSX22N"
      },
      "source": [
        "- 아래의 예제를 이용해서 동적프로그래밍으로 구현해보자.\n",
        "    - 배낭의 무게, 4\n",
        "    - 스테레오, 3000, 4\n",
        "    - 노트북, 2000, 3\n",
        "    - 기타, 1500, 1\n",
        "    - 아이폰, 2000, 1"
      ]
    },
    {
      "cell_type": "code",
      "metadata": {
        "id": "FB8PRHmjX-Vy"
      },
      "source": [
        "# W = 가방의 무게 (보통 대문자는 상수)\n",
        "# wt = 물건의 무게 (그리드의 열)\n",
        "# val = 물건의 가치\n",
        "# n = 물건의 개수 (그리드의 행)\n",
        "def knapsack(W,wt,val,n):\n",
        "    \n",
        "    # 그리드 K 생성\n",
        "    K = [[0 for x in range(W+1)] for x in range(n+1)]\n",
        "    \n",
        "    # 그리드 K[][]에 값을 생성, bottom-up manner\n",
        "    for i in range(n+1):         # 행, n = 4;  0,1,2,3,4\n",
        "        for w in range(W+1):     # 열, W = 4; 0,1,2,3,4\n",
        "            if i==0 or w==0:     # 초기값\n",
        "                K[i][w] = 0\n",
        "            elif wt[i-1] <= w:   # 현재의 물건을 해당 칸의 무게 에 넣을 수 있으면?\n",
        "                K[i][w] = max(val[i-1] + K[i-1][w-wt[i-1]], K[i-1][w])\n",
        "            else:                # 물건을 현재의 w(그리드 무게)에 넣지 못하면?\n",
        "                K[i][w] = K[i-1][w]\n",
        "\n",
        "    return K[n][W]"
      ],
      "execution_count": null,
      "outputs": []
    },
    {
      "cell_type": "code",
      "metadata": {
        "id": "LdwzT9TWYCjk"
      },
      "source": [
        "# 기타, 스테레오, 노트북\n",
        "val = [1500, 3000, 2000]\n",
        "wt = [1, 4, 3]\n",
        "W = 4\n",
        "n = len(val)"
      ],
      "execution_count": null,
      "outputs": []
    },
    {
      "cell_type": "code",
      "metadata": {
        "id": "UhXHVvr4YFrU",
        "colab": {
          "base_uri": "https://localhost:8080/",
          "height": 34
        },
        "outputId": "d40b7942-7360-4b2c-805b-097dcb04f3cc"
      },
      "source": [
        "knapsack(W,wt,val,n)"
      ],
      "execution_count": null,
      "outputs": [
        {
          "output_type": "execute_result",
          "data": {
            "text/plain": [
              "3500"
            ]
          },
          "metadata": {
            "tags": []
          },
          "execution_count": 3
        }
      ]
    },
    {
      "cell_type": "code",
      "metadata": {
        "id": "z77Tfp8lYHC0"
      },
      "source": [
        "# 기타, 스테레오, 노트북 + 아이폰 추가 (2000원, 1kg)\n",
        "val = [1500, 3000, 2000, 2000]\n",
        "wt = [1, 4, 3, 1]\n",
        "W = 4\n",
        "n = len(val)"
      ],
      "execution_count": null,
      "outputs": []
    },
    {
      "cell_type": "code",
      "metadata": {
        "id": "ICW-AceEYIWV",
        "colab": {
          "base_uri": "https://localhost:8080/",
          "height": 34
        },
        "outputId": "5b792ce3-4b97-4b3b-91b2-bad8e277882d"
      },
      "source": [
        "knapsack(W,wt,val,n)"
      ],
      "execution_count": null,
      "outputs": [
        {
          "output_type": "execute_result",
          "data": {
            "text/plain": [
              "4000"
            ]
          },
          "metadata": {
            "tags": []
          },
          "execution_count": 5
        }
      ]
    },
    {
      "cell_type": "code",
      "metadata": {
        "id": "4v3gxHiyYJ2d"
      },
      "source": [
        ""
      ],
      "execution_count": null,
      "outputs": []
    }
  ]
}