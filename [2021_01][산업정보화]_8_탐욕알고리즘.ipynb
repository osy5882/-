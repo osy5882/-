{
  "nbformat": 4,
  "nbformat_minor": 0,
  "metadata": {
    "kernelspec": {
      "display_name": "Python 3",
      "language": "python",
      "name": "python3"
    },
    "language_info": {
      "codemirror_mode": {
        "name": "ipython",
        "version": 3
      },
      "file_extension": ".py",
      "mimetype": "text/x-python",
      "name": "python",
      "nbconvert_exporter": "python",
      "pygments_lexer": "ipython3",
      "version": "3.7.4"
    },
    "colab": {
      "name": "[2021-01][산업정보화] 8. 탐욕알고리즘.ipynb",
      "provenance": [],
      "collapsed_sections": []
    }
  },
  "cells": [
    {
      "cell_type": "markdown",
      "metadata": {
        "id": "mtZINoxOdAyw"
      },
      "source": [
        "# 탐욕 알고리즘 실습"
      ]
    },
    {
      "cell_type": "markdown",
      "metadata": {
        "id": "G5K82F1edAyx"
      },
      "source": [
        "## 1. 집합에 대한 이해"
      ]
    },
    {
      "cell_type": "code",
      "metadata": {
        "id": "YW8PcY9SdAyx"
      },
      "source": [
        "fruits = set([\"avocado\",\"tomato\",\"banana\"]) # 집합 생성\n",
        "vegetables = set([\"beets\",\"carrots\",\"tomato\"]) # 집합 생성"
      ],
      "execution_count": null,
      "outputs": []
    },
    {
      "cell_type": "code",
      "metadata": {
        "id": "uDoZQoD1dAy1",
        "colab": {
          "base_uri": "https://localhost:8080/",
          "height": 34
        },
        "outputId": "b6db367c-9855-4f03-acb9-c003ccb3806c"
      },
      "source": [
        "fruits | vegetables          # 합집합"
      ],
      "execution_count": null,
      "outputs": [
        {
          "output_type": "execute_result",
          "data": {
            "text/plain": [
              "{'avocado', 'banana', 'beets', 'carrots', 'tomato'}"
            ]
          },
          "metadata": {
            "tags": []
          },
          "execution_count": 2
        }
      ]
    },
    {
      "cell_type": "code",
      "metadata": {
        "id": "unaqVyFAdAy4",
        "colab": {
          "base_uri": "https://localhost:8080/",
          "height": 34
        },
        "outputId": "36a7419d-9219-42d0-cafa-0779f0ff2bda"
      },
      "source": [
        "fruits & vegetables         # 교집합"
      ],
      "execution_count": null,
      "outputs": [
        {
          "output_type": "execute_result",
          "data": {
            "text/plain": [
              "{'tomato'}"
            ]
          },
          "metadata": {
            "tags": []
          },
          "execution_count": 3
        }
      ]
    },
    {
      "cell_type": "code",
      "metadata": {
        "id": "OIk4q4y4dAy6",
        "colab": {
          "base_uri": "https://localhost:8080/",
          "height": 34
        },
        "outputId": "cbd89dce-965f-492c-b13a-b8503e730182"
      },
      "source": [
        "fruits - vegetables         # 차집합"
      ],
      "execution_count": null,
      "outputs": [
        {
          "output_type": "execute_result",
          "data": {
            "text/plain": [
              "{'avocado', 'banana'}"
            ]
          },
          "metadata": {
            "tags": []
          },
          "execution_count": 4
        }
      ]
    },
    {
      "cell_type": "code",
      "metadata": {
        "id": "h1u_5gmtdAy9",
        "colab": {
          "base_uri": "https://localhost:8080/",
          "height": 34
        },
        "outputId": "2ef14b6a-fcc6-41f3-9f63-9e782e9d488f"
      },
      "source": [
        "vegetables - fruits"
      ],
      "execution_count": null,
      "outputs": [
        {
          "output_type": "execute_result",
          "data": {
            "text/plain": [
              "{'beets', 'carrots'}"
            ]
          },
          "metadata": {
            "tags": []
          },
          "execution_count": 5
        }
      ]
    },
    {
      "cell_type": "markdown",
      "metadata": {
        "id": "aDOHkyhGdAzA"
      },
      "source": [
        "## 2. 집합 커버링 문제(Set Covering Problem)"
      ]
    },
    {
      "cell_type": "markdown",
      "metadata": {
        "id": "RnxnqQzcdAzA"
      },
      "source": [
        "- 다음의 문제를 탐욕 알고리즘으로 풀어보시오.\n",
        "    - 전국의 모든 사람들이 최소한 한 번은 쇼를 들을 수 있도록 하려면 어떤 방송국을 방문해야 할지 계산해야 합니다. 또 방송국을 방문하여 한 번 쇼를 하는데 돈이 들기 때문에 최대한 적은 수의 방송국을 돌아야 합니다. "
      ]
    },
    {
      "cell_type": "markdown",
      "metadata": {
        "id": "_9YpSa4WdAzA"
      },
      "source": [
        "|라디오 방송국|청취 가능한 주|\n",
        "|:---:|:---:|\n",
        "|kone|nv,ut,id|\n",
        "|ktwo|mt,id,wa|\n",
        "|kthree|nv,ca,or|\n",
        "|kfour|nv,ut|\n",
        "|kfive|ca,az|"
      ]
    },
    {
      "cell_type": "markdown",
      "metadata": {
        "id": "xZWcmF51dAzB"
      },
      "source": [
        "- 어느 방송국들을 가면 될까요?\n",
        "- 근사 알고리즘(탐욕 알고리즘)으로 풀어봅시다."
      ]
    },
    {
      "cell_type": "markdown",
      "metadata": {
        "id": "VuIRUy3NdAzB"
      },
      "source": [
        "- 우선 방송하고자 하는 주의 목록을 만듭니다"
      ]
    },
    {
      "cell_type": "code",
      "metadata": {
        "id": "VT8UD7aHdAzC"
      },
      "source": [
        "states_needed = set([\"mt\",\"wa\",\"or\",\"id\",\"nv\",\"ut\",\"ca\",\"az\"]) #집합을 이용해서 생성"
      ],
      "execution_count": null,
      "outputs": []
    },
    {
      "cell_type": "code",
      "metadata": {
        "id": "gMfv6VxHdAzE",
        "colab": {
          "base_uri": "https://localhost:8080/",
          "height": 34
        },
        "outputId": "ff6bbffb-f01f-42c3-88d0-c738603b93f7"
      },
      "source": [
        "states_needed"
      ],
      "execution_count": null,
      "outputs": [
        {
          "output_type": "execute_result",
          "data": {
            "text/plain": [
              "{'az', 'ca', 'id', 'mt', 'nv', 'or', 'ut', 'wa'}"
            ]
          },
          "metadata": {
            "tags": []
          },
          "execution_count": 7
        }
      ]
    },
    {
      "cell_type": "markdown",
      "metadata": {
        "id": "IkiZHzF7dAzG"
      },
      "source": [
        "- 각 방송국 정보를 저장합니다.(해시 테이블사용)"
      ]
    },
    {
      "cell_type": "code",
      "metadata": {
        "id": "GsOJ9UEgdAzH"
      },
      "source": [
        "stations = {}\n",
        "stations[\"kone\"] = set([\"id\", \"nv\", \"ut\"])\n",
        "stations[\"ktwo\"] = set([\"wa\", \"id\", \"mt\"])\n",
        "stations[\"kthree\"] = set([\"or\", \"nv\", \"ca\"])\n",
        "stations[\"kfour\"] = set([\"nv\", \"ut\"])\n",
        "stations[\"kfive\"] = set([\"ca\", \"az\"])"
      ],
      "execution_count": null,
      "outputs": []
    },
    {
      "cell_type": "code",
      "metadata": {
        "id": "smlt7iYAdAzI",
        "colab": {
          "base_uri": "https://localhost:8080/",
          "height": 102
        },
        "outputId": "e6950b84-9d9b-4ec1-8984-11bff4c6992a"
      },
      "source": [
        "stations"
      ],
      "execution_count": null,
      "outputs": [
        {
          "output_type": "execute_result",
          "data": {
            "text/plain": [
              "{'kfive': {'az', 'ca'},\n",
              " 'kfour': {'nv', 'ut'},\n",
              " 'kone': {'id', 'nv', 'ut'},\n",
              " 'kthree': {'ca', 'nv', 'or'},\n",
              " 'ktwo': {'id', 'mt', 'wa'}}"
            ]
          },
          "metadata": {
            "tags": []
          },
          "execution_count": 9
        }
      ]
    },
    {
      "cell_type": "markdown",
      "metadata": {
        "id": "Ie-EpYuidAzK"
      },
      "source": [
        "- 해시테이블에서 `items()`함수를 살펴봅시다.\n",
        "- https://www.programiz.com/python-programming/methods/dictionary/items"
      ]
    },
    {
      "cell_type": "code",
      "metadata": {
        "id": "aXwWvFcEdAzL",
        "colab": {
          "base_uri": "https://localhost:8080/",
          "height": 34
        },
        "outputId": "1fc81a15-cb56-4b7b-ec23-599ce94df58a"
      },
      "source": [
        "stations.items()"
      ],
      "execution_count": null,
      "outputs": [
        {
          "output_type": "execute_result",
          "data": {
            "text/plain": [
              "dict_items([('kone', {'nv', 'ut', 'id'}), ('ktwo', {'id', 'wa', 'mt'}), ('kthree', {'or', 'nv', 'ca'}), ('kfour', {'nv', 'ut'}), ('kfive', {'az', 'ca'})])"
            ]
          },
          "metadata": {
            "tags": []
          },
          "execution_count": 11
        }
      ]
    },
    {
      "cell_type": "markdown",
      "metadata": {
        "id": "WM1CsEFZdAzN"
      },
      "source": [
        "- 여러분이 방문할 방송국의 목록을 저장할 집합이 필요합니다. "
      ]
    },
    {
      "cell_type": "code",
      "metadata": {
        "id": "TKecjf04dAzN"
      },
      "source": [
        "final_stations = set()"
      ],
      "execution_count": null,
      "outputs": []
    },
    {
      "cell_type": "markdown",
      "metadata": {
        "id": "ijTBuqnldAzQ"
      },
      "source": [
        "- 이제 어떤 방송국에 방송을 할지 계산하기 위한 변수를 생성 합니다."
      ]
    },
    {
      "cell_type": "code",
      "metadata": {
        "id": "T2pbYW3pdAzQ"
      },
      "source": [
        "best_station = None"
      ],
      "execution_count": null,
      "outputs": []
    },
    {
      "cell_type": "markdown",
      "metadata": {
        "id": "2u5XoIptdAzS"
      },
      "source": [
        "- 최종 코드 입니다."
      ]
    },
    {
      "cell_type": "code",
      "metadata": {
        "id": "5YveKAnSdAzT",
        "colab": {
          "base_uri": "https://localhost:8080/",
          "height": 85
        },
        "outputId": "aa9d663b-fca5-423e-b975-37fff113df73"
      },
      "source": [
        "while states_needed: # 전체집합이 공집합이되면,\n",
        "    best_station = None \n",
        "    states_covered = set()\n",
        "    for station, states in stations.items(): # ('ktwo', {'mt', 'id', 'wa'} )\n",
        "        covered = states_needed & states # {'ut', 'nv', 'id'}\n",
        "        if len(covered) > len(states_covered):\n",
        "            best_station = station   # 'kone'\n",
        "            states_covered = covered # {'ut', 'nv', 'id'}\n",
        "    print(states_needed)  # state_needed 의 상태를 보기위해 다음 코드를 사용합니다.\n",
        "    states_needed -= states_covered  \n",
        "    final_stations.add(best_station)"
      ],
      "execution_count": null,
      "outputs": [
        {
          "output_type": "stream",
          "text": [
            "{'or', 'az', 'id', 'nv', 'wa', 'mt', 'ut', 'ca'}\n",
            "{'or', 'az', 'wa', 'mt', 'ca'}\n",
            "{'or', 'az', 'ca'}\n",
            "{'az'}\n"
          ],
          "name": "stdout"
        }
      ]
    },
    {
      "cell_type": "code",
      "metadata": {
        "id": "Ag3H9BIwdAzV",
        "colab": {
          "base_uri": "https://localhost:8080/",
          "height": 34
        },
        "outputId": "3d655a30-daf2-42da-ad6b-30f00a1046ee"
      },
      "source": [
        "final_stations"
      ],
      "execution_count": null,
      "outputs": [
        {
          "output_type": "execute_result",
          "data": {
            "text/plain": [
              "{'kfive', 'kone', 'kthree', 'ktwo'}"
            ]
          },
          "metadata": {
            "tags": []
          },
          "execution_count": 15
        }
      ]
    },
    {
      "cell_type": "markdown",
      "metadata": {
        "id": "x2gD90o6dAzX"
      },
      "source": [
        "## 3. 우리가 배운 탐욕 알고리즘을 이용해서 아래의 문제를 풀어봅시다."
      ]
    },
    {
      "cell_type": "markdown",
      "metadata": {
        "id": "uqQD5RVddAzX"
      },
      "source": [
        "- 30KG 무게의 물건 담기 (배낭 채우기)"
      ]
    },
    {
      "cell_type": "markdown",
      "metadata": {
        "collapsed": true,
        "id": "uyxVtPymdAzY"
      },
      "source": [
        "|수확물|쌀|보리|밀|옥수수|소금|밤|조|\n",
        "|---|---|---|---|---|---|---|---|\n",
        "|무게|40kg|8kg|5kg|24kg|2kg|13kg|7kg|\n",
        "|가격|280원|64원|60원|48원|30원|65원|56원|\n",
        "|단위당가격|7|8|12|2|15|5|8|"
      ]
    },
    {
      "cell_type": "markdown",
      "metadata": {
        "id": "5AcknNHjdAzY"
      },
      "source": [
        "- 물건을 쪼갤 수 없을 때 부터 생각해 봅시다. (우리가 배운 배낭 채우기)\n",
        "    - W = 가방의 무게 (보통 대문자는 상수)\n",
        "    - wt = 물건의 무게\n",
        "    - val = 물건의 가치"
      ]
    },
    {
      "cell_type": "code",
      "metadata": {
        "id": "Oc_CJBsCdAzZ"
      },
      "source": [
        "weight_of_items = {\"쌀\":40,\"보리\":8,\"밀\":5,\"옥수수\":24,\"소금\":2,\"밤\":13,\"조\":7}"
      ],
      "execution_count": null,
      "outputs": []
    },
    {
      "cell_type": "code",
      "metadata": {
        "id": "PIGU_ChFdAzb",
        "colab": {
          "base_uri": "https://localhost:8080/",
          "height": 34
        },
        "outputId": "76124da6-d69d-4a75-808f-5be4de12ae57"
      },
      "source": [
        "weight_of_items"
      ],
      "execution_count": null,
      "outputs": [
        {
          "output_type": "execute_result",
          "data": {
            "text/plain": [
              "{'밀': 5, '밤': 13, '보리': 8, '소금': 2, '쌀': 40, '옥수수': 24, '조': 7}"
            ]
          },
          "metadata": {
            "tags": []
          },
          "execution_count": 17
        }
      ]
    },
    {
      "cell_type": "code",
      "metadata": {
        "id": "niOqglmGdAzd"
      },
      "source": [
        "value_of_items = [(\"쌀\", 280), (\"보리\", 64),(\"밀\", 60),(\"옥수수\", 48),(\"소금\", 30),(\"밤\", 65),(\"조\", 56)]"
      ],
      "execution_count": null,
      "outputs": []
    },
    {
      "cell_type": "code",
      "metadata": {
        "id": "L2xXXxjNdAze",
        "colab": {
          "base_uri": "https://localhost:8080/",
          "height": 136
        },
        "outputId": "5cba6b09-ec9f-4d78-e3f6-789055c468ae"
      },
      "source": [
        "value_of_items"
      ],
      "execution_count": null,
      "outputs": [
        {
          "output_type": "execute_result",
          "data": {
            "text/plain": [
              "[('쌀', 280),\n",
              " ('보리', 64),\n",
              " ('밀', 60),\n",
              " ('옥수수', 48),\n",
              " ('소금', 30),\n",
              " ('밤', 65),\n",
              " ('조', 56)]"
            ]
          },
          "metadata": {
            "tags": []
          },
          "execution_count": 19
        }
      ]
    },
    {
      "cell_type": "code",
      "metadata": {
        "id": "4hMvqYlsdAzg",
        "colab": {
          "base_uri": "https://localhost:8080/",
          "height": 34
        },
        "outputId": "46c8c3c4-b9b7-43d5-fa9f-c77c87862b0d"
      },
      "source": [
        "max(value_of_items)"
      ],
      "execution_count": null,
      "outputs": [
        {
          "output_type": "execute_result",
          "data": {
            "text/plain": [
              "('조', 56)"
            ]
          },
          "metadata": {
            "tags": []
          },
          "execution_count": 20
        }
      ]
    },
    {
      "cell_type": "code",
      "metadata": {
        "id": "xi4oQCZodAzi",
        "colab": {
          "base_uri": "https://localhost:8080/",
          "height": 34
        },
        "outputId": "7b2ee476-2d21-478a-e96d-5798812ab5fa"
      },
      "source": [
        "max(value_of_items, key=lambda item:item[0]) # 0번째 열을 기반으로 인덱싱"
      ],
      "execution_count": null,
      "outputs": [
        {
          "output_type": "execute_result",
          "data": {
            "text/plain": [
              "('조', 56)"
            ]
          },
          "metadata": {
            "tags": []
          },
          "execution_count": 21
        }
      ]
    },
    {
      "cell_type": "code",
      "metadata": {
        "id": "8H2ZkG1bdAzk",
        "colab": {
          "base_uri": "https://localhost:8080/",
          "height": 34
        },
        "outputId": "1b4c29a3-b14d-4d71-b7c4-4159f7c656dd"
      },
      "source": [
        "max(value_of_items, key=lambda item:item[1]) # 1번째 행을 기반으로 인덱싱"
      ],
      "execution_count": null,
      "outputs": [
        {
          "output_type": "execute_result",
          "data": {
            "text/plain": [
              "('쌀', 280)"
            ]
          },
          "metadata": {
            "tags": []
          },
          "execution_count": 22
        }
      ]
    },
    {
      "cell_type": "code",
      "metadata": {
        "id": "9Zs0_yZTdAzn",
        "colab": {
          "base_uri": "https://localhost:8080/",
          "height": 35
        },
        "outputId": "b5352d4e-c86f-45b8-c78a-b9aaa27673c3"
      },
      "source": [
        "max(value_of_items, key=lambda item:item[1])[0]"
      ],
      "execution_count": null,
      "outputs": [
        {
          "output_type": "execute_result",
          "data": {
            "application/vnd.google.colaboratory.intrinsic": {
              "type": "string"
            },
            "text/plain": [
              "'쌀'"
            ]
          },
          "metadata": {
            "tags": []
          },
          "execution_count": 23
        }
      ]
    },
    {
      "cell_type": "code",
      "metadata": {
        "id": "J_nmlQYkdAzo",
        "colab": {
          "base_uri": "https://localhost:8080/",
          "height": 34
        },
        "outputId": "76bd9d74-44d4-4245-c23f-6b7214c8b770"
      },
      "source": [
        "max(value_of_items, key=lambda item:item[1])[1]"
      ],
      "execution_count": null,
      "outputs": [
        {
          "output_type": "execute_result",
          "data": {
            "text/plain": [
              "280"
            ]
          },
          "metadata": {
            "tags": []
          },
          "execution_count": 24
        }
      ]
    },
    {
      "cell_type": "code",
      "metadata": {
        "id": "sTGlzv-hdAzr",
        "colab": {
          "base_uri": "https://localhost:8080/",
          "height": 34
        },
        "outputId": "9296e380-d78e-4d8e-b00f-b6deff4425fa"
      },
      "source": [
        "weight_of_items[\"쌀\"]"
      ],
      "execution_count": null,
      "outputs": [
        {
          "output_type": "execute_result",
          "data": {
            "text/plain": [
              "40"
            ]
          },
          "metadata": {
            "tags": []
          },
          "execution_count": 25
        }
      ]
    },
    {
      "cell_type": "code",
      "metadata": {
        "id": "3Y7pTmRedAzt",
        "colab": {
          "base_uri": "https://localhost:8080/",
          "height": 136
        },
        "outputId": "e4849cc9-f707-477a-db17-7a820f4c7a57"
      },
      "source": [
        "value_of_items"
      ],
      "execution_count": null,
      "outputs": [
        {
          "output_type": "execute_result",
          "data": {
            "text/plain": [
              "[('쌀', 280),\n",
              " ('보리', 64),\n",
              " ('밀', 60),\n",
              " ('옥수수', 48),\n",
              " ('소금', 30),\n",
              " ('밤', 65),\n",
              " ('조', 56)]"
            ]
          },
          "metadata": {
            "tags": []
          },
          "execution_count": 26
        }
      ]
    },
    {
      "cell_type": "code",
      "metadata": {
        "id": "kqHVBxE0dAzv"
      },
      "source": [
        "selected = max(value_of_items, key=lambda item:item[1])  # ('쌀', 280)"
      ],
      "execution_count": null,
      "outputs": []
    },
    {
      "cell_type": "code",
      "metadata": {
        "id": "uPqZMtlbdAzw",
        "colab": {
          "base_uri": "https://localhost:8080/",
          "height": 34
        },
        "outputId": "834909a0-9fff-4bec-b022-8732518eef16"
      },
      "source": [
        "selected"
      ],
      "execution_count": null,
      "outputs": [
        {
          "output_type": "execute_result",
          "data": {
            "text/plain": [
              "('쌀', 280)"
            ]
          },
          "metadata": {
            "tags": []
          },
          "execution_count": 28
        }
      ]
    },
    {
      "cell_type": "code",
      "metadata": {
        "id": "Rc20ASSMdAzy",
        "colab": {
          "base_uri": "https://localhost:8080/",
          "height": 35
        },
        "outputId": "d2afeb3f-1ff5-4ccd-9272-0642637495a7"
      },
      "source": [
        "selected[0]"
      ],
      "execution_count": null,
      "outputs": [
        {
          "output_type": "execute_result",
          "data": {
            "application/vnd.google.colaboratory.intrinsic": {
              "type": "string"
            },
            "text/plain": [
              "'쌀'"
            ]
          },
          "metadata": {
            "tags": []
          },
          "execution_count": 29
        }
      ]
    },
    {
      "cell_type": "code",
      "metadata": {
        "id": "S2BEdFLYdAz0",
        "colab": {
          "base_uri": "https://localhost:8080/",
          "height": 34
        },
        "outputId": "66916804-dc84-4aa7-a0d2-e621b72fa22f"
      },
      "source": [
        "selected[1]"
      ],
      "execution_count": null,
      "outputs": [
        {
          "output_type": "execute_result",
          "data": {
            "text/plain": [
              "280"
            ]
          },
          "metadata": {
            "tags": []
          },
          "execution_count": 30
        }
      ]
    },
    {
      "cell_type": "code",
      "metadata": {
        "id": "VOVRmkhLdAz2"
      },
      "source": [
        "i = value_of_items.index(selected)"
      ],
      "execution_count": null,
      "outputs": []
    },
    {
      "cell_type": "code",
      "metadata": {
        "id": "sXB-oufrdAz3",
        "colab": {
          "base_uri": "https://localhost:8080/",
          "height": 34
        },
        "outputId": "bdc473a6-161d-438b-d95c-7655af06b8aa"
      },
      "source": [
        "i"
      ],
      "execution_count": null,
      "outputs": [
        {
          "output_type": "execute_result",
          "data": {
            "text/plain": [
              "0"
            ]
          },
          "metadata": {
            "tags": []
          },
          "execution_count": 32
        }
      ]
    },
    {
      "cell_type": "code",
      "metadata": {
        "id": "FKf9kex3dAz5"
      },
      "source": [
        "del value_of_items[i]"
      ],
      "execution_count": null,
      "outputs": []
    },
    {
      "cell_type": "code",
      "metadata": {
        "id": "k1ilU2MxdAz6",
        "colab": {
          "base_uri": "https://localhost:8080/",
          "height": 34
        },
        "outputId": "b8b31947-69ca-4802-bed9-9296e3752e0f"
      },
      "source": [
        "value_of_items"
      ],
      "execution_count": null,
      "outputs": [
        {
          "output_type": "execute_result",
          "data": {
            "text/plain": [
              "[('보리', 64), ('밀', 60), ('옥수수', 48), ('소금', 30), ('밤', 65), ('조', 56)]"
            ]
          },
          "metadata": {
            "tags": []
          },
          "execution_count": 34
        }
      ]
    },
    {
      "cell_type": "markdown",
      "metadata": {
        "id": "ugajwOIddAz9"
      },
      "source": [
        "- Code"
      ]
    },
    {
      "cell_type": "code",
      "metadata": {
        "id": "SK97nowddAz9"
      },
      "source": [
        "def greedy(W, wt,val): # 배낭의 총 무게 W, 물건의 무게정보 wt, 물건의 가치 정보인 val\n",
        "    # 초기 조건 설정\n",
        "    knapsack = [] \n",
        "    weight = 0\n",
        "    value = 0\n",
        "    \n",
        "    while weight < W:         # weight가 가방무게 W보다 클때까지\n",
        "        selected = max(val, key=lambda item:item[1]) # (\"밤\", 65)\n",
        "        item = selected[0]            # \"밤\"\n",
        "        i = val.index(selected)       # 4\n",
        "\n",
        "        if wt[item] < W - weight:  # 현재 선택한 물건을 가방에 넣을 수 있다면\n",
        "            knapsack.append(selected[0])\n",
        "            weight += wt[item]\n",
        "            value += selected[1]\n",
        "        del val[i]\n",
        "        \n",
        "        if len(val) == 0:  # 더이상 val 에서 볼 것이 없으면 빠져 나옴\n",
        "            break\n",
        "        \n",
        "    return knapsack, weight, value # ex) [보리, 밀, 옥수수], 30kg, 300원"
      ],
      "execution_count": null,
      "outputs": []
    },
    {
      "cell_type": "code",
      "metadata": {
        "id": "fMQGuqC8dAz_"
      },
      "source": [
        "weight_of_items = {\"쌀\":40,\"보리\":8,\"밀\":5,\"옥수수\":24,\"소금\":2,\"밤\":13,\"조\":7}"
      ],
      "execution_count": null,
      "outputs": []
    },
    {
      "cell_type": "code",
      "metadata": {
        "id": "Inn9l5p9dA0B"
      },
      "source": [
        "value_of_items = [(\"쌀\", 280), (\"보리\", 64),(\"밀\", 60),(\"옥수수\", 48),(\"소금\", 30),(\"밤\", 65),(\"조\", 56)]"
      ],
      "execution_count": null,
      "outputs": []
    },
    {
      "cell_type": "code",
      "metadata": {
        "id": "yXoGx1kvdA0D"
      },
      "source": [
        "W = 30"
      ],
      "execution_count": null,
      "outputs": []
    },
    {
      "cell_type": "code",
      "metadata": {
        "id": "BumyVxsqdA0G",
        "colab": {
          "base_uri": "https://localhost:8080/",
          "height": 34
        },
        "outputId": "91a58fd9-9898-4158-bd50-d540fd3cc22d"
      },
      "source": [
        "greedy(W,weight_of_items,value_of_items)"
      ],
      "execution_count": null,
      "outputs": [
        {
          "output_type": "execute_result",
          "data": {
            "text/plain": [
              "(['밤', '보리', '밀', '소금'], 28, 219)"
            ]
          },
          "metadata": {
            "tags": []
          },
          "execution_count": 39
        }
      ]
    },
    {
      "cell_type": "markdown",
      "metadata": {
        "id": "VSB8mIaDsEXB"
      },
      "source": [
        "---\n",
        "## 4. 최적해를 계산하기 위해서 물건을 단위당 가격으로 쪼개서 구해봅시다. \n",
        "\n",
        "- `value_of_items`(물건 전체의 가치)을 `unit_value_of_items`(단위당 가치)으로 변경 후 알고리즘 진행\n",
        "- `fractional_greedy()` 함수를 사용하여, `OPT` (최적해)를 계산\n",
        "- 위의 예에서는 266보다 더 높은 가치는 존재 하지 않음 (UPPER BOUND) \n",
        "- 우리가 앞의 `greedy()`알골리즘으로 계산한 근사해 (219 vs 266)도 충분히 좋은 해\n",
        "- 다음 시간에는 물건을 위 예처럼 쪼개지 못하는 경우 최적해를 계산하는 방법에 관하여 공부합니다."
      ]
    },
    {
      "cell_type": "code",
      "metadata": {
        "id": "FcgphhmpdA0H"
      },
      "source": [
        "def fractional_greedy(W, wt,val):\n",
        "    # 초기 조건 설정\n",
        "    knapsack = [] \n",
        "    weight = 0\n",
        "    value = 0\n",
        "    \n",
        "    while weight < W:         # weight가 가방무게 W보다 클때까지\n",
        "        selected = max(val, key=lambda item:item[1]) \n",
        "        item = selected[0] \n",
        "        i = val.index(selected) \n",
        "\n",
        "        if wt[item] < W - weight:  # 현재 선택한 물건을 가방에 넣을 수 있다면\n",
        "            knapsack.append(selected[0])\n",
        "            weight += wt[item]\n",
        "            value += selected[1]*wt[item]\n",
        "        else:\n",
        "            knapsack.append(selected[0])\n",
        "            weight2 = W - weight\n",
        "            value += selected[1]*weight2\n",
        "            break\n",
        "            \n",
        "        del val[i]\n",
        "        \n",
        "        if len(val) == 0:  # 더이상 val 에서 볼 것이 없으면 빠져 나옴\n",
        "            break\n",
        "        \n",
        "    return knapsack, W, value # ex) [보리, 밀, 옥수수], 30kg, 300원"
      ],
      "execution_count": null,
      "outputs": []
    },
    {
      "cell_type": "code",
      "metadata": {
        "id": "YLlU2mcjdA0K"
      },
      "source": [
        "weight_of_items = {\"쌀\":40,\"보리\":8,\"밀\":5,\"옥수수\":24,\"소금\":2,\"밤\":13,\"조\":7}"
      ],
      "execution_count": null,
      "outputs": []
    },
    {
      "cell_type": "code",
      "metadata": {
        "id": "937VxC7JdA0L"
      },
      "source": [
        "unit_value_of_items = [(\"쌀\", 7), (\"보리\", 8),(\"밀\", 12),(\"옥수수\", 2),(\"소금\", 15),(\"밤\", 5),(\"조\", 8)]"
      ],
      "execution_count": null,
      "outputs": []
    },
    {
      "cell_type": "code",
      "metadata": {
        "id": "aPnlUiGcdA0O"
      },
      "source": [
        "W = 30"
      ],
      "execution_count": null,
      "outputs": []
    },
    {
      "cell_type": "code",
      "metadata": {
        "id": "xVUD3OUrdA0P",
        "colab": {
          "base_uri": "https://localhost:8080/",
          "height": 34
        },
        "outputId": "6caabb67-68dc-4153-9be4-80b77efb8fd6"
      },
      "source": [
        "fractional_greedy(W,weight_of_items,unit_value_of_items)"
      ],
      "execution_count": null,
      "outputs": [
        {
          "output_type": "execute_result",
          "data": {
            "text/plain": [
              "(['소금', '밀', '보리', '조', '쌀'], 30, 266)"
            ]
          },
          "metadata": {
            "tags": []
          },
          "execution_count": 44
        }
      ]
    },
    {
      "cell_type": "code",
      "metadata": {
        "id": "6rsmzJYZdA0R"
      },
      "source": [
        ""
      ],
      "execution_count": null,
      "outputs": []
    }
  ]
}